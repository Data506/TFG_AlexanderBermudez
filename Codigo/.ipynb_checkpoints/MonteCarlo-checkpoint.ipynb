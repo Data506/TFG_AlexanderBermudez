{
 "cells": [
  {
   "cell_type": "code",
   "execution_count": null,
   "id": "82169fcf",
   "metadata": {
    "tags": []
   },
   "outputs": [],
   "source": [
    "# Importación de bibliotecas necesarias para la manipulación de datos y configuración del proyecto.\n",
    "# pandas se utiliza para la manipulación de dataframes, numpy para operaciones numéricas,\n",
    "# y os para la interacción con el sistema de archivos.\n",
    "import pandas as pd\n",
    "import numpy as np\n",
    "import os\n",
    "from configuracion import configuracion as cf  # Importación de configuraciones personalizadas del proyecto.\n"
   ]
  },
  {
   "cell_type": "markdown",
   "id": "667fc6c6-5f7b-4276-a92e-74e10b5a1e96",
   "metadata": {},
   "source": [
    "# Generación población sintética base.\n",
    "\n",
    "### Genero, edad, cantón, región"
   ]
  },
  {
   "cell_type": "code",
   "execution_count": null,
   "id": "1e605f78",
   "metadata": {
    "tags": []
   },
   "outputs": [],
   "source": [
    "# Carga de datos del archivo CSV 'CantonEdad.csv', que contiene la distribución de población\n",
    "# por edad y género para cada cantón. Se utiliza la configuración del directorio desde un módulo\n",
    "# de configuración para definir la ruta del archivo. Se muestran las primeras 20 filas para una revisión inicial.\n",
    "df_cantonEdad = pd.read_csv(cf.directorio_data + 'CantonEdad.csv', sep=',', decimal='.')\n",
    "df_cantonEdad.head(20)\n"
   ]
  },
  {
   "cell_type": "code",
   "execution_count": null,
   "id": "e6bcc0bb-e330-40f3-93df-4a27084085e2",
   "metadata": {
    "tags": []
   },
   "outputs": [],
   "source": [
    "# Definición de una función para simular las características de una persona basada en \n",
    "# la distribución por edad y género en un cantón específico.\n",
    "def simular_persona(datos_cantón):\n",
    "    # Calcular la probabilidad de que la persona sea hombre, basada en la proporción \n",
    "    # de hombres respecto al total de la población del cantón.\n",
    "    prob_hombre = datos_cantón['Hombres'].values[0] / datos_cantón['Total General'].values[0]\n",
    "    # Asignar género basado en la probabilidad calculada.\n",
    "    género = 'Hombre' if np.random.rand() < prob_hombre else 'Mujer'\n",
    "\n",
    "    # Seleccionar grupo de edad según las probabilidades proporcionales a la población \n",
    "    # de cada grupo de edad para hombres o mujeres.\n",
    "    grupos_edad = ['De 0 a 14 años', 'De 15 a 24 años', 'De 25 a 34 años', 'De 35 a 44 años', \n",
    "                   'De 45 a 59 años', 'De 60 años o más']\n",
    "    if género == 'Hombre':\n",
    "        poblaciones = [datos_cantón[f'Hombres {edad}'].values[0] for edad in grupos_edad]\n",
    "    else:\n",
    "        poblaciones = [datos_cantón[f'Mujeres {edad}'].values[0] for edad in grupos_edad]\n",
    "\n",
    "    # Seleccionar aleatoriamente un grupo de edad basado en la distribución proporcional.\n",
    "    grupo_edad = np.random.choice(grupos_edad, p=np.array(poblaciones) / np.sum(poblaciones))\n",
    "\n",
    "    # Devolver el género y el grupo de edad de la persona simulada.\n",
    "    return género, grupo_edad\n",
    "\n",
    "# Creación de un DataFrame para almacenar la población sintética por cantón.\n",
    "sint_poblacion_por_canton = pd.DataFrame()\n",
    "for cantón_interes in list(df_cantonEdad['Canton']):\n",
    "    # Filtrar los datos para el cantón de interés.\n",
    "    df_canton = df_cantonEdad[df_cantonEdad['Canton'] == cantón_interes]\n",
    "    # Determinar el número de personas a simular en función del total general del cantón.\n",
    "    total_simulaciones_por_canton = df_canton.iloc[0,4] # Se puede ajustar según necesidades del análisis.\n",
    "\n",
    "    # Simular las características de cada persona en el cantón usando la función definida.\n",
    "    personas_simuladas = [simular_persona(df_canton) for _ in range(total_simulaciones_por_canton)]\n",
    "\n",
    "    # Convertir los resultados de la simulación en un DataFrame para facilitar el análisis.\n",
    "    canton_simulado = pd.DataFrame(personas_simuladas, columns=['Género', 'Rango edad'])\n",
    "    canton_simulado['Canton'] = cantón_interes\n",
    "\n",
    "    # Concatenar los resultados de cada cantón en un DataFrame general.\n",
    "    sint_poblacion_por_canton = pd.concat([sint_poblacion_por_canton, canton_simulado])\n",
    "\n",
    "# Adición de la dimensión de región a la población sintética, vinculando los datos del cantón con la región correspondiente.\n",
    "sint_poblacion_por_region = pd.merge(df_cantonEdad[['Región', 'Canton']], \n",
    "                                     sint_poblacion_por_canton, \n",
    "                                     how='inner', on='Canton')\n"
   ]
  },
  {
   "cell_type": "markdown",
   "id": "b05e8edf",
   "metadata": {},
   "source": [
    "# Asignación de status de ocupación\n",
    "\n",
    "### Segun genero y edad"
   ]
  },
  {
   "cell_type": "markdown",
   "id": "d210ad2a-41bf-41fa-af88-c672384f7f84",
   "metadata": {},
   "source": [
    "Dado que no tienes un identificador único y ambos datasets son simulaciones basadas en distribuciones de variables compartidas (edad y género), puedes combinar estos conjuntos de datos utilizando un enfoque probabilístico que respete las distribuciones subyacentes en cada dataset. Aquí te explico una estrategia posible:\n",
    "\n",
    "Estrategia de Combinación Probabilística\n",
    "Normalización de Datasets:\n",
    "\n",
    "Cálculo de Probabilidades Condiciones:\n",
    "Para el dataset con estado laboral, se calcula la probabilidad condicional de cada estado laboral dado el género y la edad, igual a una tabla de probabilidad P(Estado Laboral | Edad, Género).\n",
    "\n",
    "Asignación de Estado Laboral:\n",
    "Para cada individuo en el primer dataset (el que contiene edad, género y región), utiliza las probabilidades calculadas para simular un estado laboral, basado en la edad y el género de cada individuo, se consulta la tabla de probabilidad P(Estado Laboral | Edad, Género) y genera el estado laboral de acuerdo con las probabilidades asociadas.\n",
    "Este proceso se realiza mediante un muestreo aleatorio donde cada estado laboral se selecciona de acuerdo a su probabilidad condicional.\n",
    "\n",
    "Simulación y Asignación:\n",
    "Se utiliza un generador de números aleatorios para realizar el muestreo basado en las probabilidades. Cada selección es independiente y respetará las distribuciones observadas en el segundo dataset.\n",
    "La asignación se hace de manera que mantenga la coherencia estadística general, respetando las distribuciones marginales y conjuntas observadas.\n",
    "\n",
    "Este método de combinación probabilística permite integrar dos conjuntos de datos sintéticos que no tienen un identificador común pero comparten algunas variables clave, asegurando que la integración respete las distribuciones originales y proporcionando un resultado final coherente y estadísticamente valido."
   ]
  },
  {
   "cell_type": "code",
   "execution_count": null,
   "id": "97f0fd95",
   "metadata": {},
   "outputs": [],
   "source": [
    "# Generacion del segundo dataset\n",
    "df_edad_genero_status = pd.read_csv(cf.directorio_data + 'EdadGeneroStatus.csv')\n",
    "df_edad_genero_status.round(0)"
   ]
  },
  {
   "cell_type": "code",
   "execution_count": null,
   "id": "0a9f0c01-6ca5-4736-941b-4e5b9c1ec97d",
   "metadata": {
    "tags": []
   },
   "outputs": [],
   "source": [
    "# Definición de una función para calcular las probabilidades condicionales de cada estado laboral\n",
    "# (Ocupada, Desempleada, Fuera de la Fuerza Laboral) por género y grupo de edad.\n",
    "def calcular_probabilidades_status(df):\n",
    "    # Crear una lista para acumular los resultados de las probabilidades calculadas.\n",
    "    resultados = []\n",
    "\n",
    "    # Iterar sobre cada fila del DataFrame para calcular probabilidades por combinación de edad y género.\n",
    "    for _, row in df.iterrows():\n",
    "        edad = row['Rango edad']\n",
    "        for genero in ['Hombres', 'Mujeres']:\n",
    "            total = row[f'{genero}_Total']  # Total de individuos por género.\n",
    "            # Calcular la probabilidad de cada estado laboral para el género y grupo de edad actual.\n",
    "            for estado in ['Ocupada', 'Desempleada', 'Fuera Fuerza Laboral']:\n",
    "                count = row[f'{genero}_{estado}']  # Conteo de individuos en cada estado laboral.\n",
    "                # Cálculo de la probabilidad condicional, evitando divisiones por cero.\n",
    "                probabilidad = count / total if total > 0 else 0\n",
    "                # Almacenar el resultado en un diccionario para añadirlo a la lista de resultados.\n",
    "                resultados.append({\n",
    "                    'Rango edad': edad,\n",
    "                    'Género': 'Hombre' if genero == 'Hombres' else 'Mujer',\n",
    "                    'Estado Laboral': estado,\n",
    "                    'Probabilidad': probabilidad\n",
    "                })\n",
    "\n",
    "    # Convertir la lista de resultados en un DataFrame para análisis posterior.\n",
    "    return pd.DataFrame(resultados)\n",
    "\n",
    "# Aplicación de la función para calcular las probabilidades condicionales de estado laboral por grupo de edad y género.\n",
    "probabilidades = calcular_probabilidades_status(df_edad_genero_status)\n",
    "\n",
    "# Crear una tabla pivote para organizar las probabilidades por grupo de edad y género,\n",
    "# con columnas representando cada estado laboral y sus respectivas probabilidades.\n",
    "tabla_probabilidades_status = probabilidades.pivot_table(\n",
    "    index=['Rango edad', 'Género'], \n",
    "    columns='Estado Laboral', \n",
    "    values='Probabilidad', \n",
    "    fill_value=0\n",
    ")\n",
    "# Definición de una función para simular el estado laboral de una persona basada en las probabilidades calculadas.\n",
    "def simular_estado_laboral(row):\n",
    "    edad, genero = row['Rango edad'], row['Género']\n",
    "    \n",
    "    # Verificar si la combinación de edad y género está presente en la tabla de probabilidades.\n",
    "    if (edad, genero) in tabla_probabilidades_status.index:\n",
    "        # Obtener la distribución de probabilidades para los estados laborales correspondientes a la edad y género.\n",
    "        distribucion = tabla_probabilidades_status.loc[(edad, genero)]\n",
    "        estados = distribucion.index  # Lista de estados laborales.\n",
    "        probabilidades_estado = distribucion.values  # Probabilidades asociadas a cada estado laboral.\n",
    "        probabilidades_estado /= probabilidades_estado.sum()  # Normalizar las probabilidades para asegurar que sumen a 1.\n",
    "        \n",
    "        # Seleccionar aleatoriamente un estado laboral basado en las probabilidades normalizadas.\n",
    "        return np.random.choice(estados, p=probabilidades_estado)\n",
    "    else:\n",
    "        # Retornar 'Desconocido' si no se encuentra la combinación de edad y género en el dataset de probabilidades.\n",
    "        return 'Desconocido'\n",
    "\n",
    "# Aplicar la función de simulación de estado laboral al DataFrame de población sintética por región.\n",
    "sint_poblacion_por_region['Estado Laboral'] = sint_poblacion_por_region.apply(simular_estado_laboral, axis=1)\n"
   ]
  },
  {
   "cell_type": "code",
   "execution_count": null,
   "id": "17b19928-cb46-430a-bfb3-fd67775066dd",
   "metadata": {
    "tags": []
   },
   "outputs": [],
   "source": [
    "sint_poblacion_por_region.groupby(['Rango edad', 'Estado Laboral']).size()"
   ]
  },
  {
   "cell_type": "code",
   "execution_count": null,
   "id": "1b6df9e6",
   "metadata": {},
   "outputs": [],
   "source": [
    "sint_poblacion_por_region['Rango edad'].value_counts(normalize=True)"
   ]
  },
  {
   "cell_type": "markdown",
   "id": "bf17e019-9bc5-4a08-a109-427004cf1fc1",
   "metadata": {},
   "source": [
    "# Asignación zona"
   ]
  },
  {
   "cell_type": "code",
   "execution_count": null,
   "id": "94200b4a",
   "metadata": {},
   "outputs": [],
   "source": [
    "# Leer el archivo CSV que contiene la población por zona\n",
    "df_zonas = pd.read_csv(cf.directorio_data + 'PoblacionPorZona.csv').iloc[:-1,:]\n",
    "df_zonas"
   ]
  },
  {
   "cell_type": "code",
   "execution_count": null,
   "id": "f622716a",
   "metadata": {},
   "outputs": [],
   "source": [
    "# Calcular el total de la población por cada rango de edad sumando los valores de las zonas urbana y rural.\n",
    "df_zonas['Total'] = df_zonas['Urbano'] + df_zonas['Rural']\n",
    "\n",
    "# Calcular las probabilidades para cada zona (Urbano y Rural) por cada rango de edad.\n",
    "# Estas probabilidades reflejan la proporción de la población que vive en zonas urbanas y rurales.\n",
    "df_zonas['Prob_Urbano'] = df_zonas['Urbano'] / df_zonas['Total']\n",
    "df_zonas['Prob_Rural'] = df_zonas['Rural'] / df_zonas['Total']\n",
    "\n",
    "\n",
    "# Crear una tabla que contenga las probabilidades de que una persona de un rango de edad dado\n",
    "# resida en una zona urbana o rural, y establecer el rango de edad como índice para facilitar el acceso.\n",
    "tabla_probabilidades_zona = df_zonas[['Rango edad', 'Prob_Urbano', 'Prob_Rural']]\n",
    "tabla_probabilidades_zona.set_index('Rango edad', inplace=True)\n",
    "\n",
    "\n",
    "# Definición de una función para simular la zona de residencia (Urbano o Rural) de una persona\n",
    "# basada en su rango de edad utilizando las probabilidades calculadas anteriormente.\n",
    "def simular_zonas(row):\n",
    "    edad = row['Rango edad']\n",
    "    \n",
    "    # Verificar si el rango de edad está presente en la tabla de probabilidades.\n",
    "    if edad in tabla_probabilidades_zona.index:\n",
    "        # Obtener las probabilidades correspondientes a la zona urbana y rural para la edad dada.\n",
    "        distribucion = tabla_probabilidades_zona.loc[edad]\n",
    "        zonas = ['Urbano', 'Rural']  # Definir las posibles zonas.\n",
    "        probabilidades_zona = [distribucion['Prob_Urbano'], distribucion['Prob_Rural']]  # Probabilidades asociadas.\n",
    "        \n",
    "        # Seleccionar aleatoriamente una zona basado en las probabilidades calculadas.\n",
    "        return np.random.choice(zonas, p=probabilidades_zona)\n",
    "    else:\n",
    "        # Retornar 'Desconocido' si no se encuentra el rango de edad en la tabla de probabilidades.\n",
    "        return 'Desconocido'\n",
    "\n",
    "# Aplicar la función de simulación de zona de residencia al DataFrame de población sintética por región.\n",
    "sint_poblacion_por_region['Zona'] = sint_poblacion_por_region.apply(simular_zonas, axis=1)\n",
    "\n",
    "# Comparar la distribución de zonas generada por el modelo con la distribución real de los datos.\n",
    "# Se calcula la distribución generada a partir del dataset sintético y se compara con la distribución\n",
    "# real calculada como el promedio de las probabilidades de las zonas urbana y rural en el dataset original.\n",
    "distribucion_generada = sint_poblacion_por_region['Zona'].value_counts(normalize=True)  # Distribución generada.\n",
    "distribucion_real = df_zonas[['Prob_Urbano', 'Prob_Rural']].mean()  # Distribución real promedio.\n",
    "\n",
    "# Imprimir la distribución generada y la distribución real para evaluar la similitud entre ambas.\n",
    "print(\"Distribución generada:\")\n",
    "print(distribucion_generada)\n",
    "\n",
    "print(\"\\nDistribución real:\")\n",
    "print(distribucion_real)\n"
   ]
  },
  {
   "cell_type": "code",
   "execution_count": null,
   "id": "a6944d80",
   "metadata": {},
   "outputs": [],
   "source": [
    "# Seperación de población sintetica por status laboral\n",
    "poblacion_ocupada = sint_poblacion_por_region[\n",
    "                    sint_poblacion_por_region['Estado Laboral'] == 'Ocupada']\n",
    "poblacion_sin_ocupacion = sint_poblacion_por_region[\n",
    "                    sint_poblacion_por_region['Estado Laboral'] == 'Fuera Fuerza Laboral']\n",
    "poblacion_no_ocupada = sint_poblacion_por_region[\n",
    "                    sint_poblacion_por_region['Estado Laboral'] == 'Desempleada']"
   ]
  },
  {
   "cell_type": "markdown",
   "id": "2e88a258",
   "metadata": {},
   "source": [
    "# Asignación rama económico"
   ]
  },
  {
   "cell_type": "code",
   "execution_count": null,
   "id": "2a2d7c43",
   "metadata": {},
   "outputs": [],
   "source": [
    "sector = pd.read_csv(cf.directorio_data + 'PoblacionOcupadaPorSector.csv', sep=',', decimal='.')\n",
    "sector_des = pd.read_csv(cf.directorio_data + 'PoblacionDesOcupadaPorSector.csv', sep=',', decimal='.')"
   ]
  },
  {
   "cell_type": "code",
   "execution_count": null,
   "id": "becfa5f1",
   "metadata": {},
   "outputs": [],
   "source": [
    "# Crear una función para asignar la sector económica basada en las probabilidades condicionales solo por género\n",
    "def asignar_sector_por_genero(genero):\n",
    "    probabilidades = sector[genero] / sector[genero].sum()  # Normalizar para que sumen a 1\n",
    "    return np.random.choice(sector['Sectoreconómico'], p=probabilidades)\n",
    "\n",
    "\n",
    "# Asignar la sector económica a cada individuo en el dataset\n",
    "poblacion_ocupada['Sector'] = poblacion_ocupada['Género'].apply(asignar_sector_por_genero)\n",
    "print(poblacion_ocupada.head())"
   ]
  },
  {
   "cell_type": "code",
   "execution_count": null,
   "id": "42f068a2",
   "metadata": {},
   "outputs": [],
   "source": [
    "# Crear una función para asignar la sector económica basada en las probabilidades condicionales solo por género\n",
    "def asignar_sector_des_por_genero(genero):\n",
    "    probabilidades = sector_des[genero] / sector_des[genero].sum()  # Normalizar para que sumen a 1\n",
    "    return np.random.choice(sector_des['Sectoreconómico'], p=probabilidades)\n",
    "\n",
    "# Asignar la sector económica a cada individuo en el dataset\n",
    "poblacion_no_ocupada['Sector'] = poblacion_no_ocupada['Género'].apply(asignar_sector_des_por_genero)\n",
    "print(poblacion_no_ocupada.head())"
   ]
  },
  {
   "cell_type": "markdown",
   "id": "76ce7551",
   "metadata": {},
   "source": [
    "# Asignacion de sector económico"
   ]
  },
  {
   "cell_type": "code",
   "execution_count": null,
   "id": "9227114b",
   "metadata": {},
   "outputs": [],
   "source": [
    "rama_sector = pd.read_csv(cf.directorio_data + 'RamaSector.csv', sep=',', decimal='.')\n",
    "rama_sector"
   ]
  },
  {
   "cell_type": "code",
   "execution_count": null,
   "id": "2d2783ab",
   "metadata": {},
   "outputs": [],
   "source": [
    "# Ocupados\n",
    "poblacion_ocupada = pd.merge(poblacion_ocupada, rama_sector, how='inner', left_on='Sector', right_on='Rama')\n",
    "poblacion_ocupada = poblacion_ocupada.drop(['Sector_x'], axis=1)\n",
    "poblacion_ocupada.rename(columns={'Sector_y': 'Sector'}, inplace=True)\n",
    "print(poblacion_ocupada.head())"
   ]
  },
  {
   "cell_type": "code",
   "execution_count": null,
   "id": "1caf593a",
   "metadata": {},
   "outputs": [],
   "source": [
    "# Desempleados\n",
    "poblacion_no_ocupada = pd.merge(poblacion_no_ocupada, rama_sector, how='inner', left_on='Sector', right_on='Rama')\n",
    "poblacion_no_ocupada = poblacion_no_ocupada.drop(['Sector_x'], axis=1)\n",
    "poblacion_no_ocupada.rename(columns={'Sector_y': 'Sector'}, inplace=True)\n",
    "print(poblacion_no_ocupada.head())"
   ]
  },
  {
   "cell_type": "markdown",
   "id": "b181b16d",
   "metadata": {},
   "source": [
    "# Asignación cualificación"
   ]
  },
  {
   "cell_type": "code",
   "execution_count": null,
   "id": "18e31c8e",
   "metadata": {},
   "outputs": [],
   "source": [
    "cualificacion = pd.read_csv(cf.directorio_data + 'PoblacionOcupadaPorCalificacion.csv', sep=',', decimal='.')\n",
    "cualificacion_des = pd.read_csv(cf.directorio_data + 'PoblacionDesOcupadaPorCalificacion.csv', sep=',', decimal='.')"
   ]
  },
  {
   "cell_type": "code",
   "execution_count": null,
   "id": "43a21ce9",
   "metadata": {},
   "outputs": [],
   "source": [
    "# Crear una función para asignar la cualificación basada en las probabilidades condicionales solo por género\n",
    "def asignar_cualificacion_por_genero(genero):\n",
    "    probabilidades = cualificacion[genero] / cualificacion[genero].sum()  # Normalizar para que sumen a 1\n",
    "    return np.random.choice(cualificacion['Nivel calificacion'], p=probabilidades)\n",
    "\n",
    "# Asignar la rama económica a cada individuo en el dataset\n",
    "poblacion_ocupada['Nivel calificacion'] = poblacion_ocupada['Género'].apply(asignar_cualificacion_por_genero)\n",
    "poblacion_ocupada.head()"
   ]
  },
  {
   "cell_type": "code",
   "execution_count": null,
   "id": "ef798096",
   "metadata": {},
   "outputs": [],
   "source": [
    "# Crear una función para asignar la cualificación basada en las probabilidades condicionales solo por género\n",
    "def asignar_cualificacion_des_por_genero(genero):\n",
    "    probabilidades = cualificacion_des[genero] / cualificacion_des[genero].sum()  # Normalizar para que sumen a 1\n",
    "    return np.random.choice(cualificacion_des['Nivel calificacion'], p=probabilidades)\n",
    "\n",
    "# Asignar la rama económica a cada individuo en el dataset\n",
    "poblacion_no_ocupada['Nivel calificacion'] = poblacion_no_ocupada['Género'].apply(asignar_cualificacion_des_por_genero)\n",
    "poblacion_no_ocupada.head()"
   ]
  },
  {
   "cell_type": "markdown",
   "id": "012fb9b6",
   "metadata": {},
   "source": [
    "# Asignación institucional"
   ]
  },
  {
   "cell_type": "code",
   "execution_count": null,
   "id": "f7e9794b",
   "metadata": {},
   "outputs": [],
   "source": [
    "institucional = pd.read_csv(cf.directorio_data + 'PoblacionOcupadaInstitucional.csv', sep=',', decimal='.')\n",
    "institucional_des = pd.read_csv(cf.directorio_data + 'PoblacionDesOcupadaInstitucional.csv', sep=',', decimal='.')"
   ]
  },
  {
   "cell_type": "code",
   "execution_count": null,
   "id": "f7df470b",
   "metadata": {},
   "outputs": [],
   "source": [
    "def asignar_institucional_por_genero(genero):\n",
    "    # Calcular probabilidades acumuladas para el género dado\n",
    "    probabilidades = institucional[genero] / institucional[genero].sum()\n",
    "    probabilidades_acumuladas = np.cumsum(probabilidades)\n",
    "    \n",
    "    # Generar un número aleatorio\n",
    "    random_number = np.random.rand()\n",
    "    \n",
    "    # Asignar el sector institucional basado en el número aleatorio\n",
    "    for i, prob_acumulada in enumerate(probabilidades_acumuladas):\n",
    "        if random_number < prob_acumulada:\n",
    "            return institucional['Sector Institucional'].iloc[i]\n",
    "\n",
    "# Asignar la rama económica a cada individuo en el dataset\n",
    "poblacion_ocupada['Sector Institucional'] = poblacion_ocupada['Género'].apply(asignar_institucional_por_genero)\n",
    "poblacion_ocupada.head()"
   ]
  },
  {
   "cell_type": "code",
   "execution_count": null,
   "id": "6548571d",
   "metadata": {},
   "outputs": [],
   "source": [
    "def asignar_institucional_des_por_genero(genero):\n",
    "    # Calcular probabilidades acumuladas para el género dado\n",
    "    probabilidades = institucional_des[genero] / institucional_des[genero].sum()\n",
    "    probabilidades_acumuladas = np.cumsum(probabilidades)\n",
    "    \n",
    "    # Generar un número aleatorio\n",
    "    random_number = np.random.rand()\n",
    "    \n",
    "    # Asignar el sector institucional_des basado en el número aleatorio\n",
    "    for i, prob_acumulada in enumerate(probabilidades_acumuladas):\n",
    "        if random_number < prob_acumulada:\n",
    "            return institucional_des['Sector Institucional'].iloc[i]\n",
    "\n",
    "# Asignar la rama económica a cada individuo en el dataset\n",
    "poblacion_no_ocupada['Sector Institucional'] = poblacion_no_ocupada['Género'].apply(asignar_institucional_des_por_genero)\n",
    "poblacion_no_ocupada.head()"
   ]
  },
  {
   "cell_type": "markdown",
   "id": "afbd5412",
   "metadata": {},
   "source": [
    "# Asignacion de posición"
   ]
  },
  {
   "cell_type": "code",
   "execution_count": null,
   "id": "33df82ef",
   "metadata": {},
   "outputs": [],
   "source": [
    "posicion = pd.read_csv(cf.directorio_data + 'PoblacionOcupadaPorPosicion.csv', sep=',', decimal='.')\n",
    "posicion_des = pd.read_csv(cf.directorio_data + 'PoblacionDesOcupadaPorPosicion.csv', sep=',', decimal='.')"
   ]
  },
  {
   "cell_type": "code",
   "execution_count": null,
   "id": "3c37ae8c",
   "metadata": {},
   "outputs": [],
   "source": [
    "# Crear una función para asignar la rama económica basada en las probabilidades condicionales solo por género\n",
    "def asignar_posicion_por_genero(genero):\n",
    "    probabilidades = posicion[genero] / posicion[genero].sum()  # Normalizar para que sumen a 1\n",
    "    return np.random.choice(posicion['Posicion'], p=probabilidades)\n",
    "\n",
    "# Asignar la rama económica a cada individuo en el dataset\n",
    "poblacion_ocupada['Posición'] = poblacion_ocupada['Género'].apply(asignar_posicion_por_genero)\n",
    "poblacion_ocupada.head()"
   ]
  },
  {
   "cell_type": "code",
   "execution_count": null,
   "id": "3dd6db3c",
   "metadata": {},
   "outputs": [],
   "source": [
    "# Crear una función para asignar la rama económica basada en las probabilidades condicionales solo por género\n",
    "def asignar_posicion_des_por_genero(genero):\n",
    "    probabilidades = posicion_des[genero] / posicion_des[genero].sum()  # Normalizar para que sumen a 1\n",
    "    return np.random.choice(posicion_des['Posicion'], p=probabilidades)\n",
    "\n",
    "# Asignar la rama económica a cada individuo en el dataset\n",
    "poblacion_no_ocupada['Posición'] = poblacion_no_ocupada['Género'].apply(asignar_posicion_des_por_genero)\n",
    "poblacion_no_ocupada.head()"
   ]
  },
  {
   "cell_type": "code",
   "execution_count": null,
   "id": "cdbe7739",
   "metadata": {},
   "outputs": [],
   "source": [
    "poblacion_sintetica = pd.concat([poblacion_ocupada, poblacion_no_ocupada])"
   ]
  },
  {
   "cell_type": "code",
   "execution_count": null,
   "id": "74ebb260",
   "metadata": {},
   "outputs": [],
   "source": [
    "poblacion_sintetica = pd.concat([poblacion_sintetica, poblacion_sin_ocupacion])"
   ]
  },
  {
   "cell_type": "code",
   "execution_count": null,
   "id": "26bb2c77",
   "metadata": {},
   "outputs": [],
   "source": [
    "poblacion_sintetica.to_csv(cf.directorio_data + 'PoblacionSintetica.csv', sep=',', decimal='.')"
   ]
  }
 ],
 "metadata": {
  "availableInstances": [
   {
    "_defaultOrder": 0,
    "_isFastLaunch": true,
    "category": "General purpose",
    "gpuNum": 0,
    "hideHardwareSpecs": false,
    "memoryGiB": 4,
    "name": "ml.t3.medium",
    "vcpuNum": 2
   },
   {
    "_defaultOrder": 1,
    "_isFastLaunch": false,
    "category": "General purpose",
    "gpuNum": 0,
    "hideHardwareSpecs": false,
    "memoryGiB": 8,
    "name": "ml.t3.large",
    "vcpuNum": 2
   },
   {
    "_defaultOrder": 2,
    "_isFastLaunch": false,
    "category": "General purpose",
    "gpuNum": 0,
    "hideHardwareSpecs": false,
    "memoryGiB": 16,
    "name": "ml.t3.xlarge",
    "vcpuNum": 4
   },
   {
    "_defaultOrder": 3,
    "_isFastLaunch": false,
    "category": "General purpose",
    "gpuNum": 0,
    "hideHardwareSpecs": false,
    "memoryGiB": 32,
    "name": "ml.t3.2xlarge",
    "vcpuNum": 8
   },
   {
    "_defaultOrder": 4,
    "_isFastLaunch": true,
    "category": "General purpose",
    "gpuNum": 0,
    "hideHardwareSpecs": false,
    "memoryGiB": 8,
    "name": "ml.m5.large",
    "vcpuNum": 2
   },
   {
    "_defaultOrder": 5,
    "_isFastLaunch": false,
    "category": "General purpose",
    "gpuNum": 0,
    "hideHardwareSpecs": false,
    "memoryGiB": 16,
    "name": "ml.m5.xlarge",
    "vcpuNum": 4
   },
   {
    "_defaultOrder": 6,
    "_isFastLaunch": false,
    "category": "General purpose",
    "gpuNum": 0,
    "hideHardwareSpecs": false,
    "memoryGiB": 32,
    "name": "ml.m5.2xlarge",
    "vcpuNum": 8
   },
   {
    "_defaultOrder": 7,
    "_isFastLaunch": false,
    "category": "General purpose",
    "gpuNum": 0,
    "hideHardwareSpecs": false,
    "memoryGiB": 64,
    "name": "ml.m5.4xlarge",
    "vcpuNum": 16
   },
   {
    "_defaultOrder": 8,
    "_isFastLaunch": false,
    "category": "General purpose",
    "gpuNum": 0,
    "hideHardwareSpecs": false,
    "memoryGiB": 128,
    "name": "ml.m5.8xlarge",
    "vcpuNum": 32
   },
   {
    "_defaultOrder": 9,
    "_isFastLaunch": false,
    "category": "General purpose",
    "gpuNum": 0,
    "hideHardwareSpecs": false,
    "memoryGiB": 192,
    "name": "ml.m5.12xlarge",
    "vcpuNum": 48
   },
   {
    "_defaultOrder": 10,
    "_isFastLaunch": false,
    "category": "General purpose",
    "gpuNum": 0,
    "hideHardwareSpecs": false,
    "memoryGiB": 256,
    "name": "ml.m5.16xlarge",
    "vcpuNum": 64
   },
   {
    "_defaultOrder": 11,
    "_isFastLaunch": false,
    "category": "General purpose",
    "gpuNum": 0,
    "hideHardwareSpecs": false,
    "memoryGiB": 384,
    "name": "ml.m5.24xlarge",
    "vcpuNum": 96
   },
   {
    "_defaultOrder": 12,
    "_isFastLaunch": false,
    "category": "General purpose",
    "gpuNum": 0,
    "hideHardwareSpecs": false,
    "memoryGiB": 8,
    "name": "ml.m5d.large",
    "vcpuNum": 2
   },
   {
    "_defaultOrder": 13,
    "_isFastLaunch": false,
    "category": "General purpose",
    "gpuNum": 0,
    "hideHardwareSpecs": false,
    "memoryGiB": 16,
    "name": "ml.m5d.xlarge",
    "vcpuNum": 4
   },
   {
    "_defaultOrder": 14,
    "_isFastLaunch": false,
    "category": "General purpose",
    "gpuNum": 0,
    "hideHardwareSpecs": false,
    "memoryGiB": 32,
    "name": "ml.m5d.2xlarge",
    "vcpuNum": 8
   },
   {
    "_defaultOrder": 15,
    "_isFastLaunch": false,
    "category": "General purpose",
    "gpuNum": 0,
    "hideHardwareSpecs": false,
    "memoryGiB": 64,
    "name": "ml.m5d.4xlarge",
    "vcpuNum": 16
   },
   {
    "_defaultOrder": 16,
    "_isFastLaunch": false,
    "category": "General purpose",
    "gpuNum": 0,
    "hideHardwareSpecs": false,
    "memoryGiB": 128,
    "name": "ml.m5d.8xlarge",
    "vcpuNum": 32
   },
   {
    "_defaultOrder": 17,
    "_isFastLaunch": false,
    "category": "General purpose",
    "gpuNum": 0,
    "hideHardwareSpecs": false,
    "memoryGiB": 192,
    "name": "ml.m5d.12xlarge",
    "vcpuNum": 48
   },
   {
    "_defaultOrder": 18,
    "_isFastLaunch": false,
    "category": "General purpose",
    "gpuNum": 0,
    "hideHardwareSpecs": false,
    "memoryGiB": 256,
    "name": "ml.m5d.16xlarge",
    "vcpuNum": 64
   },
   {
    "_defaultOrder": 19,
    "_isFastLaunch": false,
    "category": "General purpose",
    "gpuNum": 0,
    "hideHardwareSpecs": false,
    "memoryGiB": 384,
    "name": "ml.m5d.24xlarge",
    "vcpuNum": 96
   },
   {
    "_defaultOrder": 20,
    "_isFastLaunch": false,
    "category": "General purpose",
    "gpuNum": 0,
    "hideHardwareSpecs": true,
    "memoryGiB": 0,
    "name": "ml.geospatial.interactive",
    "supportedImageNames": [
     "sagemaker-geospatial-v1-0"
    ],
    "vcpuNum": 0
   },
   {
    "_defaultOrder": 21,
    "_isFastLaunch": true,
    "category": "Compute optimized",
    "gpuNum": 0,
    "hideHardwareSpecs": false,
    "memoryGiB": 4,
    "name": "ml.c5.large",
    "vcpuNum": 2
   },
   {
    "_defaultOrder": 22,
    "_isFastLaunch": false,
    "category": "Compute optimized",
    "gpuNum": 0,
    "hideHardwareSpecs": false,
    "memoryGiB": 8,
    "name": "ml.c5.xlarge",
    "vcpuNum": 4
   },
   {
    "_defaultOrder": 23,
    "_isFastLaunch": false,
    "category": "Compute optimized",
    "gpuNum": 0,
    "hideHardwareSpecs": false,
    "memoryGiB": 16,
    "name": "ml.c5.2xlarge",
    "vcpuNum": 8
   },
   {
    "_defaultOrder": 24,
    "_isFastLaunch": false,
    "category": "Compute optimized",
    "gpuNum": 0,
    "hideHardwareSpecs": false,
    "memoryGiB": 32,
    "name": "ml.c5.4xlarge",
    "vcpuNum": 16
   },
   {
    "_defaultOrder": 25,
    "_isFastLaunch": false,
    "category": "Compute optimized",
    "gpuNum": 0,
    "hideHardwareSpecs": false,
    "memoryGiB": 72,
    "name": "ml.c5.9xlarge",
    "vcpuNum": 36
   },
   {
    "_defaultOrder": 26,
    "_isFastLaunch": false,
    "category": "Compute optimized",
    "gpuNum": 0,
    "hideHardwareSpecs": false,
    "memoryGiB": 96,
    "name": "ml.c5.12xlarge",
    "vcpuNum": 48
   },
   {
    "_defaultOrder": 27,
    "_isFastLaunch": false,
    "category": "Compute optimized",
    "gpuNum": 0,
    "hideHardwareSpecs": false,
    "memoryGiB": 144,
    "name": "ml.c5.18xlarge",
    "vcpuNum": 72
   },
   {
    "_defaultOrder": 28,
    "_isFastLaunch": false,
    "category": "Compute optimized",
    "gpuNum": 0,
    "hideHardwareSpecs": false,
    "memoryGiB": 192,
    "name": "ml.c5.24xlarge",
    "vcpuNum": 96
   },
   {
    "_defaultOrder": 29,
    "_isFastLaunch": true,
    "category": "Accelerated computing",
    "gpuNum": 1,
    "hideHardwareSpecs": false,
    "memoryGiB": 16,
    "name": "ml.g4dn.xlarge",
    "vcpuNum": 4
   },
   {
    "_defaultOrder": 30,
    "_isFastLaunch": false,
    "category": "Accelerated computing",
    "gpuNum": 1,
    "hideHardwareSpecs": false,
    "memoryGiB": 32,
    "name": "ml.g4dn.2xlarge",
    "vcpuNum": 8
   },
   {
    "_defaultOrder": 31,
    "_isFastLaunch": false,
    "category": "Accelerated computing",
    "gpuNum": 1,
    "hideHardwareSpecs": false,
    "memoryGiB": 64,
    "name": "ml.g4dn.4xlarge",
    "vcpuNum": 16
   },
   {
    "_defaultOrder": 32,
    "_isFastLaunch": false,
    "category": "Accelerated computing",
    "gpuNum": 1,
    "hideHardwareSpecs": false,
    "memoryGiB": 128,
    "name": "ml.g4dn.8xlarge",
    "vcpuNum": 32
   },
   {
    "_defaultOrder": 33,
    "_isFastLaunch": false,
    "category": "Accelerated computing",
    "gpuNum": 4,
    "hideHardwareSpecs": false,
    "memoryGiB": 192,
    "name": "ml.g4dn.12xlarge",
    "vcpuNum": 48
   },
   {
    "_defaultOrder": 34,
    "_isFastLaunch": false,
    "category": "Accelerated computing",
    "gpuNum": 1,
    "hideHardwareSpecs": false,
    "memoryGiB": 256,
    "name": "ml.g4dn.16xlarge",
    "vcpuNum": 64
   },
   {
    "_defaultOrder": 35,
    "_isFastLaunch": false,
    "category": "Accelerated computing",
    "gpuNum": 1,
    "hideHardwareSpecs": false,
    "memoryGiB": 61,
    "name": "ml.p3.2xlarge",
    "vcpuNum": 8
   },
   {
    "_defaultOrder": 36,
    "_isFastLaunch": false,
    "category": "Accelerated computing",
    "gpuNum": 4,
    "hideHardwareSpecs": false,
    "memoryGiB": 244,
    "name": "ml.p3.8xlarge",
    "vcpuNum": 32
   },
   {
    "_defaultOrder": 37,
    "_isFastLaunch": false,
    "category": "Accelerated computing",
    "gpuNum": 8,
    "hideHardwareSpecs": false,
    "memoryGiB": 488,
    "name": "ml.p3.16xlarge",
    "vcpuNum": 64
   },
   {
    "_defaultOrder": 38,
    "_isFastLaunch": false,
    "category": "Accelerated computing",
    "gpuNum": 8,
    "hideHardwareSpecs": false,
    "memoryGiB": 768,
    "name": "ml.p3dn.24xlarge",
    "vcpuNum": 96
   },
   {
    "_defaultOrder": 39,
    "_isFastLaunch": false,
    "category": "Memory Optimized",
    "gpuNum": 0,
    "hideHardwareSpecs": false,
    "memoryGiB": 16,
    "name": "ml.r5.large",
    "vcpuNum": 2
   },
   {
    "_defaultOrder": 40,
    "_isFastLaunch": false,
    "category": "Memory Optimized",
    "gpuNum": 0,
    "hideHardwareSpecs": false,
    "memoryGiB": 32,
    "name": "ml.r5.xlarge",
    "vcpuNum": 4
   },
   {
    "_defaultOrder": 41,
    "_isFastLaunch": false,
    "category": "Memory Optimized",
    "gpuNum": 0,
    "hideHardwareSpecs": false,
    "memoryGiB": 64,
    "name": "ml.r5.2xlarge",
    "vcpuNum": 8
   },
   {
    "_defaultOrder": 42,
    "_isFastLaunch": false,
    "category": "Memory Optimized",
    "gpuNum": 0,
    "hideHardwareSpecs": false,
    "memoryGiB": 128,
    "name": "ml.r5.4xlarge",
    "vcpuNum": 16
   },
   {
    "_defaultOrder": 43,
    "_isFastLaunch": false,
    "category": "Memory Optimized",
    "gpuNum": 0,
    "hideHardwareSpecs": false,
    "memoryGiB": 256,
    "name": "ml.r5.8xlarge",
    "vcpuNum": 32
   },
   {
    "_defaultOrder": 44,
    "_isFastLaunch": false,
    "category": "Memory Optimized",
    "gpuNum": 0,
    "hideHardwareSpecs": false,
    "memoryGiB": 384,
    "name": "ml.r5.12xlarge",
    "vcpuNum": 48
   },
   {
    "_defaultOrder": 45,
    "_isFastLaunch": false,
    "category": "Memory Optimized",
    "gpuNum": 0,
    "hideHardwareSpecs": false,
    "memoryGiB": 512,
    "name": "ml.r5.16xlarge",
    "vcpuNum": 64
   },
   {
    "_defaultOrder": 46,
    "_isFastLaunch": false,
    "category": "Memory Optimized",
    "gpuNum": 0,
    "hideHardwareSpecs": false,
    "memoryGiB": 768,
    "name": "ml.r5.24xlarge",
    "vcpuNum": 96
   },
   {
    "_defaultOrder": 47,
    "_isFastLaunch": false,
    "category": "Accelerated computing",
    "gpuNum": 1,
    "hideHardwareSpecs": false,
    "memoryGiB": 16,
    "name": "ml.g5.xlarge",
    "vcpuNum": 4
   },
   {
    "_defaultOrder": 48,
    "_isFastLaunch": false,
    "category": "Accelerated computing",
    "gpuNum": 1,
    "hideHardwareSpecs": false,
    "memoryGiB": 32,
    "name": "ml.g5.2xlarge",
    "vcpuNum": 8
   },
   {
    "_defaultOrder": 49,
    "_isFastLaunch": false,
    "category": "Accelerated computing",
    "gpuNum": 1,
    "hideHardwareSpecs": false,
    "memoryGiB": 64,
    "name": "ml.g5.4xlarge",
    "vcpuNum": 16
   },
   {
    "_defaultOrder": 50,
    "_isFastLaunch": false,
    "category": "Accelerated computing",
    "gpuNum": 1,
    "hideHardwareSpecs": false,
    "memoryGiB": 128,
    "name": "ml.g5.8xlarge",
    "vcpuNum": 32
   },
   {
    "_defaultOrder": 51,
    "_isFastLaunch": false,
    "category": "Accelerated computing",
    "gpuNum": 1,
    "hideHardwareSpecs": false,
    "memoryGiB": 256,
    "name": "ml.g5.16xlarge",
    "vcpuNum": 64
   },
   {
    "_defaultOrder": 52,
    "_isFastLaunch": false,
    "category": "Accelerated computing",
    "gpuNum": 4,
    "hideHardwareSpecs": false,
    "memoryGiB": 192,
    "name": "ml.g5.12xlarge",
    "vcpuNum": 48
   },
   {
    "_defaultOrder": 53,
    "_isFastLaunch": false,
    "category": "Accelerated computing",
    "gpuNum": 4,
    "hideHardwareSpecs": false,
    "memoryGiB": 384,
    "name": "ml.g5.24xlarge",
    "vcpuNum": 96
   },
   {
    "_defaultOrder": 54,
    "_isFastLaunch": false,
    "category": "Accelerated computing",
    "gpuNum": 8,
    "hideHardwareSpecs": false,
    "memoryGiB": 768,
    "name": "ml.g5.48xlarge",
    "vcpuNum": 192
   },
   {
    "_defaultOrder": 55,
    "_isFastLaunch": false,
    "category": "Accelerated computing",
    "gpuNum": 8,
    "hideHardwareSpecs": false,
    "memoryGiB": 1152,
    "name": "ml.p4d.24xlarge",
    "vcpuNum": 96
   },
   {
    "_defaultOrder": 56,
    "_isFastLaunch": false,
    "category": "Accelerated computing",
    "gpuNum": 8,
    "hideHardwareSpecs": false,
    "memoryGiB": 1152,
    "name": "ml.p4de.24xlarge",
    "vcpuNum": 96
   },
   {
    "_defaultOrder": 57,
    "_isFastLaunch": false,
    "category": "Accelerated computing",
    "gpuNum": 0,
    "hideHardwareSpecs": false,
    "memoryGiB": 32,
    "name": "ml.trn1.2xlarge",
    "vcpuNum": 8
   },
   {
    "_defaultOrder": 58,
    "_isFastLaunch": false,
    "category": "Accelerated computing",
    "gpuNum": 0,
    "hideHardwareSpecs": false,
    "memoryGiB": 512,
    "name": "ml.trn1.32xlarge",
    "vcpuNum": 128
   },
   {
    "_defaultOrder": 59,
    "_isFastLaunch": false,
    "category": "Accelerated computing",
    "gpuNum": 0,
    "hideHardwareSpecs": false,
    "memoryGiB": 512,
    "name": "ml.trn1n.32xlarge",
    "vcpuNum": 128
   }
  ],
  "instance_type": "ml.m5.large",
  "kernelspec": {
   "display_name": "Python 3 (ipykernel)",
   "language": "python",
   "name": "python3"
  },
  "language_info": {
   "codemirror_mode": {
    "name": "ipython",
    "version": 3
   },
   "file_extension": ".py",
   "mimetype": "text/x-python",
   "name": "python",
   "nbconvert_exporter": "python",
   "pygments_lexer": "ipython3",
   "version": "3.10.9"
  }
 },
 "nbformat": 4,
 "nbformat_minor": 5
}
