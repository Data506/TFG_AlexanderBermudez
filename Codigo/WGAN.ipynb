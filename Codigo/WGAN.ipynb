{
 "cells": [
  {
   "cell_type": "code",
   "execution_count": null,
   "id": "3665ab54-073d-45bf-afd5-7a4a23876339",
   "metadata": {
    "tags": []
   },
   "outputs": [],
   "source": [
    "import warnings\n",
    "warnings.filterwarnings('ignore')\n",
    "! pip install torch\n",
    "! pip install tensorflow"
   ]
  },
  {
   "cell_type": "code",
   "execution_count": null,
   "id": "2967a0cd-a069-401e-9c69-9b9c37e6d319",
   "metadata": {
    "tags": []
   },
   "outputs": [],
   "source": [
    "import warnings\n",
    "import torch\n",
    "import pandas as pd\n",
    "import matplotlib.pyplot as plt\n",
    "import numpy as np\n",
    "import torch.nn as nn\n",
    "import torch.optim as optim\n",
    "from torch.utils.data import DataLoader, TensorDataset\n",
    "import numpy as np\n",
    "from multiprocessing import Pool, cpu_count\n",
    "from sklearn.preprocessing import LabelEncoder\n",
    "from sklearn.preprocessing import MinMaxScaler\n",
    "from joblib import Parallel, delayed\n",
    "import tensorflow as tf\n",
    "import time\n",
    "from scipy.stats import entropy, chi2_contingency\n",
    "import os"
   ]
  },
  {
   "cell_type": "code",
   "execution_count": 4,
   "id": "9fbe4666-0138-46bb-a79f-edc7b45772ac",
   "metadata": {
    "tags": []
   },
   "outputs": [],
   "source": [
    "warnings.filterwarnings('ignore')\n",
    "data = pd.read_csv('PoblacionSintetica.csv',\n",
    "                   sep=',',  \n",
    "                   on_bad_lines='warn',\n",
    "                   index_col=0)"
   ]
  },
  {
   "cell_type": "code",
   "execution_count": 5,
   "id": "4d44b86d-2698-4a78-be93-ca15e9a1c963",
   "metadata": {
    "tags": []
   },
   "outputs": [],
   "source": [
    "cantidad_muestras = len(data)"
   ]
  },
  {
   "cell_type": "code",
   "execution_count": null,
   "id": "d880f56a-577f-4daf-8efd-fc3a1273e467",
   "metadata": {
    "tags": []
   },
   "outputs": [],
   "source": [
    "# Reemplazar los valores que cumplen la condición por ceros\n",
    "data.loc[(data['Salario'] == 'No especificado') | (data['Salario'] == 'No Aplica'), 'Salario'] = 0\n",
    "data.head()"
   ]
  },
  {
   "cell_type": "code",
   "execution_count": 7,
   "id": "c8cabeea-7c32-404a-bb48-63bae3da1d4f",
   "metadata": {
    "tags": []
   },
   "outputs": [],
   "source": [
    "data['Salario'] = data['Salario'].astype(float)\n",
    "data['Salario'] = data['Salario'].round(0).astype(int)"
   ]
  },
  {
   "cell_type": "code",
   "execution_count": 8,
   "id": "fd5889cd-8093-4846-a9cd-30164ebca5b4",
   "metadata": {
    "tags": []
   },
   "outputs": [],
   "source": [
    "data = data.fillna('No Aplica')"
   ]
  },
  {
   "cell_type": "markdown",
   "id": "a6c0b02e-56b7-40e5-897b-a39eac05fabc",
   "metadata": {},
   "source": [
    "# Reducción"
   ]
  },
  {
   "cell_type": "code",
   "execution_count": null,
   "id": "96a36575-99e1-480a-9036-a44dffcaa74b",
   "metadata": {
    "tags": []
   },
   "outputs": [],
   "source": [
    "data_sampled = data.sample(frac=1, random_state=42, replace=False) #El muestreo al 100% es para desorganizar la data de forma aleatoria\n",
    "data_sampled.shape"
   ]
  },
  {
   "cell_type": "code",
   "execution_count": null,
   "id": "21e2d82e-519f-4432-b92d-ab9a7f02343e",
   "metadata": {
    "tags": []
   },
   "outputs": [],
   "source": [
    "data_sampled.head()"
   ]
  },
  {
   "cell_type": "code",
   "execution_count": null,
   "id": "5eb8aa5b-6f75-468e-a6f9-2db17c9a3d68",
   "metadata": {
    "tags": []
   },
   "outputs": [],
   "source": [
    "# Definición de tamaño de lote\n",
    "batch = 64\n",
    "batch"
   ]
  },
  {
   "cell_type": "code",
   "execution_count": null,
   "id": "f5613836-effc-4a99-af35-ba1bd7c3e905",
   "metadata": {},
   "outputs": [],
   "source": [
    "data_sampled.columns"
   ]
  },
  {
   "cell_type": "markdown",
   "id": "492e37c7-34d6-4e95-b4c5-efa491844be1",
   "metadata": {},
   "source": [
    "# Embedding"
   ]
  },
  {
   "cell_type": "code",
   "execution_count": 104,
   "id": "a57f0a3a-e786-4b51-bac9-e63267be613b",
   "metadata": {
    "tags": []
   },
   "outputs": [],
   "source": [
    "# Definir embedding_dims para cada columna\n",
    "embedding_dims = {\n",
    "                'Región': 6, 'Canton': 9, # Cantón 81\n",
    "                'Género': 1, 'Rango edad': 6, 'Estado Laboral': 3,\n",
    "                'Zona': 2, 'Sector': 5, 'Rama': 15, 'Nivel calificacion': 5, #Rama 15\n",
    "                'Sector Institucional': 3, 'Posición': 7, 'Formalidad': 3\n",
    "                }"
   ]
  },
  {
   "cell_type": "code",
   "execution_count": 105,
   "id": "c9b3e5ab-0c0c-4357-9a34-7c466eae2830",
   "metadata": {
    "tags": []
   },
   "outputs": [],
   "source": [
    "# Crear un diccionario para almacenar los label encoders y embeddings\n",
    "label_encoders = {}\n",
    "embedding_layers = {}\n",
    "embedded_dfs = []\n",
    "df = pd.DataFrame()"
   ]
  },
  {
   "cell_type": "code",
   "execution_count": null,
   "id": "816b2137-0777-49b3-abb3-576d344d829c",
   "metadata": {
    "tags": []
   },
   "outputs": [],
   "source": [
    "# Iterar sobre cada columna categórica y aplicar embedding\n",
    "warnings.filterwarnings('ignore')\n",
    "for col, dim in embedding_dims.items():\n",
    "    label_encoders[col] = LabelEncoder()\n",
    "    df[f'{col}_idx'] = label_encoders[col].fit_transform(data_sampled[col])\n",
    "\n",
    "    num_categories = df[f'{col}_idx'].nunique()\n",
    "    embedding_layers[col] = tf.keras.layers.Embedding(input_dim=num_categories, output_dim=dim, input_length=1)\n",
    "\n",
    "    input_data = tf.convert_to_tensor(df[f'{col}_idx'].values)\n",
    "    embeddings = embedding_layers[col](input_data)\n",
    "\n",
    "    embedded_df = pd.DataFrame(embeddings.numpy(), columns=[f'{col}_embed_{i+1}' for i in range(dim)])\n",
    "    embedded_dfs.append(embedded_df)\n",
    "\n",
    "# Concatenar todos los embeddings\n",
    "final_embedded_df = pd.concat(embedded_dfs, axis=1)\n",
    "final_embedded_df.head()"
   ]
  },
  {
   "cell_type": "code",
   "execution_count": 107,
   "id": "54670bfe-0bf4-4b4b-9a1b-54990e8de310",
   "metadata": {
    "tags": []
   },
   "outputs": [],
   "source": [
    "# Resetea los índices de ambos DataFrames para asegurarte de que no haya duplicados\n",
    "final_embedded_df = final_embedded_df.reset_index(drop=True)\n",
    "data_sampled = data_sampled.reset_index(drop=True)"
   ]
  },
  {
   "cell_type": "code",
   "execution_count": 108,
   "id": "43ebdf4f-1079-42b0-b75f-7a489cdca0d3",
   "metadata": {
    "tags": []
   },
   "outputs": [],
   "source": [
    "from sklearn.preprocessing import MinMaxScaler\n",
    "\n",
    "scaler = MinMaxScaler()\n",
    "data_sampled['Salario'] = scaler.fit_transform(data_sampled[['Salario']])"
   ]
  },
  {
   "cell_type": "code",
   "execution_count": 109,
   "id": "671e9a30-273d-4c6f-ae25-c0cbaedd64ab",
   "metadata": {
    "tags": []
   },
   "outputs": [],
   "source": [
    "final_embedded_df['Salario'] = data_sampled['Salario']"
   ]
  },
  {
   "cell_type": "markdown",
   "id": "f7e52a6d-e600-4070-b31b-be5f441301b1",
   "metadata": {
    "tags": []
   },
   "source": [
    "# TGAN"
   ]
  },
  {
   "cell_type": "code",
   "execution_count": 110,
   "id": "093b381a-7ea2-43b9-be04-54dd4a942097",
   "metadata": {
    "tags": []
   },
   "outputs": [],
   "source": [
    "# Fijar semillas para reproducibilidad\n",
    "def set_seed(seed=42):\n",
    "    torch.manual_seed(seed)\n",
    "    torch.cuda.manual_seed(seed)\n",
    "    torch.cuda.manual_seed_all(seed)  # if use multi-GPU\n",
    "    np.random.seed(seed)\n",
    "    torch.backends.cudnn.deterministic = True\n",
    "    torch.backends.cudnn.benchmark = False\n",
    "\n",
    "set_seed(42)  # Puedes cambiar '42' a cualquier otro número de semilla\n",
    "\n",
    "# Función de inicialización de pesos\n",
    "def weights_init(m):\n",
    "    if isinstance(m, nn.Linear):\n",
    "        torch.nn.init.normal_(m.weight, mean=0.0, std=0.02)\n",
    "        if m.bias is not None:\n",
    "            torch.nn.init.constant_(m.bias, 0)\n",
    "\n",
    "# Generador\n",
    "class Generator(nn.Module):\n",
    "    def __init__(self, input_dim, output_dim):\n",
    "        super(Generator, self).__init__()\n",
    "        self.model = nn.Sequential(\n",
    "            nn.Linear(input_dim, 512),\n",
    "            nn.ELU(),\n",
    "            nn.Dropout(0.5),\n",
    "            nn.Linear(512, 1024),\n",
    "            nn.ELU(),\n",
    "            nn.Dropout(0.5),\n",
    "            nn.Linear(1024, 2048),\n",
    "            nn.ELU(),\n",
    "            nn.Dropout(0.5),\n",
    "            nn.Linear(2048, output_dim)\n",
    "        )\n",
    "        self.apply(weights_init)\n",
    "    \n",
    "    def forward(self, z):\n",
    "        return self.model(z)\n",
    "\n",
    "# Crítico\n",
    "class Critic(nn.Module):\n",
    "    def __init__(self, input_dim):\n",
    "        super(Critic, self).__init__()\n",
    "        self.model = nn.Sequential(\n",
    "            nn.Linear(input_dim, 2048),\n",
    "            nn.ELU(),\n",
    "            nn.Dropout(0.5),\n",
    "            nn.Linear(2048, 1024),\n",
    "            nn.ELU(),\n",
    "            nn.Dropout(0.5),\n",
    "            nn.Linear(1024, 512),\n",
    "            nn.ELU(),\n",
    "            nn.Dropout(0.5),\n",
    "            nn.Linear(512, 1)\n",
    "        )\n",
    "        self.apply(weights_init)\n",
    "    \n",
    "    def forward(self, x):\n",
    "        return self.model(x)\n",
    "\n",
    "# Inicialización de la WGAN-GP\n",
    "class WGAN_GP:\n",
    "    def __init__(self, data, latent_dim=100, epochs=100, batch_size=64, lr=0.0001, std_thresholds=None, lambda_gp=5, patience=10):\n",
    "        self.data = data\n",
    "        self.latent_dim = latent_dim\n",
    "        self.epochs = epochs\n",
    "        self.batch_size = batch_size\n",
    "        self.lr = lr\n",
    "        self.lambda_gp = lambda_gp\n",
    "        self.patience = patience\n",
    "\n",
    "        # Dimensión del dato de entrada\n",
    "        self.data_dim = data.shape[1]\n",
    "\n",
    "        # Instancia de las redes\n",
    "        self.generator = Generator(latent_dim, self.data_dim)\n",
    "        self.critic = Critic(self.data_dim)\n",
    "\n",
    "        # Configuración del optimizador\n",
    "        self.opt_gen = optim.Adam(self.generator.parameters(), lr=self.lr, betas=(0.5, 0.9))\n",
    "        self.opt_critic = optim.Adam(self.critic.parameters(), lr=self.lr, betas=(0.5, 0.9))\n",
    "\n",
    "        # Ponderación de la pérdida por dimensión\n",
    "        self.dimension_weights = torch.ones(self.data_dim)\n",
    "\n",
    "        # Umbrales de variabilidad personalizados por dimensión\n",
    "        if std_thresholds is None:\n",
    "            self.std_thresholds = torch.full((self.data_dim,), 0.01)  # Valor por defecto para todas las dimensiones\n",
    "        else:\n",
    "            self.std_thresholds = torch.tensor(std_thresholds)\n",
    "\n",
    "        # Variables para almacenamiento de las mejores métricas y early stopping\n",
    "        self.best_gen_loss = float('inf')\n",
    "        self.best_epoch = 0\n",
    "        self.early_stop_counter = 0\n",
    "\n",
    "        # Almacenamiento de pérdidas para graficar\n",
    "        self.critic_losses = []\n",
    "        self.gen_losses = []\n",
    "        self.embedding_metrics = []\n",
    "\n",
    "    def gradient_penalty(self, real_data, fake_data):\n",
    "        batch_size = real_data.size(0)\n",
    "        epsilon = torch.rand(batch_size, 1, device=real_data.device, requires_grad=True)\n",
    "        epsilon = epsilon.expand_as(real_data)\n",
    "        \n",
    "        interpolated = epsilon * real_data + (1 - epsilon) * fake_data\n",
    "        interpolated = interpolated.requires_grad_(True)\n",
    "        \n",
    "        critic_interpolated = self.critic(interpolated)\n",
    "        \n",
    "        gradients = torch.autograd.grad(\n",
    "            outputs=critic_interpolated,\n",
    "            inputs=interpolated,\n",
    "            grad_outputs=torch.ones_like(critic_interpolated),\n",
    "            create_graph=True,\n",
    "            retain_graph=True  # Retiene el grafo para futuras operaciones\n",
    "        )[0]\n",
    "        \n",
    "        gradients = gradients.view(batch_size, -1)\n",
    "        gradient_norm = gradients.norm(2, dim=1)\n",
    "        penalty = self.lambda_gp * ((gradient_norm - 1) ** 2).mean()\n",
    "        return penalty\n",
    "\n",
    "    def embedding_metric(self, real_data, fake_data):\n",
    "        # Métrica de comparación directa entre los embeddings reales y generados\n",
    "        return torch.mean(torch.norm(real_data - fake_data, dim=1)).item()  # Distancia media L2\n",
    "\n",
    "    def distribution_metric(self, real_data, fake_data):\n",
    "        # Pequeño valor para evitar logaritmos de 0 o divisiones por 0\n",
    "        epsilon = 1e-10\n",
    "\n",
    "        # Calcular histogramas normalizados para real_data y fake_data\n",
    "        real_dist = torch.histc(real_data, bins=100, min=0, max=1) + epsilon\n",
    "        fake_dist = torch.histc(fake_data, bins=100, min=0, max=1) + epsilon\n",
    "\n",
    "        # Normalizar las distribuciones\n",
    "        real_dist /= real_dist.sum()\n",
    "        fake_dist /= fake_dist.sum()\n",
    "\n",
    "        # Media de las distribuciones\n",
    "        mean_dist = 0.5 * (real_dist + fake_dist)\n",
    "\n",
    "        # Calcular KL divergence para cada distribución respecto a la media\n",
    "        kl_real = torch.sum(real_dist * (real_dist / mean_dist).log())\n",
    "        kl_fake = torch.sum(fake_dist * (fake_dist / mean_dist).log())\n",
    "\n",
    "        # Calcular Jensen-Shannon Divergence\n",
    "        js_divergence = 0.5 * (kl_real + kl_fake)\n",
    "\n",
    "        return js_divergence.item()\n",
    "\n",
    "    def train(self):\n",
    "        # Convertir los datos en tensores y cargar en DataLoader\n",
    "        tensor_data = torch.tensor(self.data, dtype=torch.float32)\n",
    "        dataloader = DataLoader(TensorDataset(tensor_data), batch_size=self.batch_size, shuffle=True)\n",
    "\n",
    "        for epoch in range(self.epochs):\n",
    "            for batch in dataloader:\n",
    "                real_data = batch[0]\n",
    "\n",
    "                # Generar ruido y datos falsos con mayor varianza\n",
    "                z = torch.randn(real_data.size(0), self.latent_dim) * 1.0\n",
    "                fake_data = self.generator(z)\n",
    "\n",
    "                # Entrenamiento del crítico (con más frecuencia)\n",
    "                for _ in range(5):\n",
    "                    self.opt_critic.zero_grad()\n",
    "                    \n",
    "                    critic_real = self.critic(real_data)\n",
    "                    critic_fake = self.critic(fake_data.detach())\n",
    "                    \n",
    "                    gp = self.gradient_penalty(real_data, fake_data)\n",
    "                    \n",
    "                    critic_loss = -torch.mean(critic_real) + torch.mean(critic_fake) + gp\n",
    "                    critic_loss.backward(retain_graph=True)\n",
    "                    self.opt_critic.step()\n",
    "\n",
    "                # Entrenamiento del generador cada 5 pasos del crítico\n",
    "                self.opt_gen.zero_grad()\n",
    "                \n",
    "                fake_data = self.generator(z)\n",
    "                critic_fake = self.critic(fake_data)\n",
    "                \n",
    "                gen_loss = -torch.mean(critic_fake)\n",
    "                gen_loss.backward()\n",
    "                self.opt_gen.step()\n",
    "\n",
    "                # Calcular la métrica de embeddings\n",
    "                embedding_metric = self.embedding_metric(real_data, fake_data)\n",
    "                # Calcular la métrica de distribución\n",
    "                distribution_metric = self.distribution_metric(real_data, fake_data)\n",
    "\n",
    "                # Almacenar las métricas\n",
    "                self.embedding_metrics.append(embedding_metric)\n",
    "\n",
    "            # Guardar las pérdidas para graficar\n",
    "            self.critic_losses.append(critic_loss.item())\n",
    "            self.gen_losses.append(gen_loss.item())\n",
    "\n",
    "            print(f\"Epoch {epoch+1}/{self.epochs}, Critic Loss: {critic_loss.item():.4f}, Gen Loss: {gen_loss.item():.4f}, Embedding Metric: {embedding_metric:.4f}, Distribution Metric: {distribution_metric:.4f}\")\n",
    "\n",
    "            # Checkpoint y early stopping\n",
    "            if not torch.isinf(gen_loss) and not torch.isnan(gen_loss) and gen_loss.item() < self.best_gen_loss:\n",
    "                if distribution_metric < 0.5:  # Ajusta el umbral si es necesario\n",
    "                    self.best_gen_loss = gen_loss.item()\n",
    "                    self.best_epoch = epoch\n",
    "                    self.early_stop_counter = 0\n",
    "                    torch.save(self.generator.state_dict(), f'best_generator_{id(self)}.pth')\n",
    "                    torch.save(self.critic.state_dict(), f'best_critic_{id(self)}.pth')\n",
    "                    print(f\"Model saved at epoch {epoch+1}. Gen Loss: {gen_loss.item():.4f}, Distribution Metric: {distribution_metric:.4f}\")\n",
    "            else:\n",
    "                self.early_stop_counter += 1\n",
    "\n",
    "            if self.early_stop_counter >= self.patience:\n",
    "                print(f\"Early stopping at epoch {epoch+1}. Best epoch was {self.best_epoch+1} with Gen Loss: {self.best_gen_loss:.4f}\")\n",
    "                break\n",
    "\n",
    "    def sample(self, n_samples):\n",
    "        z = torch.randn(n_samples, self.latent_dim) * 5  # Aumentar la varianza del ruido para mejorar la diversidad\n",
    "        generated_data = self.generator(z)\n",
    "        return generated_data.detach().numpy()\n",
    "\n",
    "# Función para entrenar un WGAN-GP con métricas adicionales\n",
    "def train_wgan_gp(data_chunk, latent_dim=500, epochs=100, batch_size=64, lr=0.0001, std_thresholds=None, lambda_gp=10, patience=10):\n",
    "    wgan_gp = WGAN_GP(data_chunk, latent_dim=latent_dim, epochs=epochs, batch_size=batch_size, lr=lr, std_thresholds=std_thresholds, lambda_gp=lambda_gp, patience=patience)\n",
    "    wgan_gp.train()\n",
    "\n",
    "    # Cargar el mejor modelo guardado si existe\n",
    "    gen_path = f'best_generator_{id(wgan_gp)}.pth'\n",
    "    critic_path = f'best_critic_{id(wgan_gp)}.pth'\n",
    "\n",
    "    if os.path.exists(gen_path):\n",
    "        wgan_gp.generator.load_state_dict(torch.load(gen_path))\n",
    "    else:\n",
    "        print(f\"Warning: No se encontró el archivo '{gen_path}'\")\n",
    "\n",
    "    if os.path.exists(critic_path):\n",
    "        wgan_gp.critic.load_state_dict(torch.load(critic_path))\n",
    "    else:\n",
    "        print(f\"Warning: No se encontró el archivo '{critic_path}'\")\n",
    "\n",
    "    # Graficar las pérdidas y métricas\n",
    "    # Crear una figura y tres subplots para las métricas\n",
    "    fig, axs = plt.subplots(3, 1, figsize=(10, 15))  # 3 filas, 1 columna\n",
    "\n",
    "    # Gráfica 1: Pérdida del Critic\n",
    "    axs[0].plot(wgan_gp.critic_losses, label=\"Critic Loss\", color='blue')\n",
    "    axs[0].set_title('Critic Loss')\n",
    "    axs[0].set_xlabel(\"Epochs\")\n",
    "    axs[0].set_ylabel(\"Value\")\n",
    "    axs[0].legend()\n",
    "\n",
    "    # Gráfica 2: Pérdida del Generador\n",
    "    axs[1].plot(wgan_gp.gen_losses, label=\"Gen Loss\", color='green')\n",
    "    axs[1].set_title('Generator Loss')\n",
    "    axs[1].set_xlabel(\"Epochs\")\n",
    "    axs[1].set_ylabel(\"Value\")\n",
    "    axs[1].legend()\n",
    "\n",
    "    # Gráfica 3: Métrica de Embeddings\n",
    "    axs[2].plot(wgan_gp.embedding_metrics, label=\"Embedding Metric\", color='red')\n",
    "    axs[2].set_title('Embedding Metric')\n",
    "    axs[2].set_xlabel(\"Epochs\")\n",
    "    axs[2].set_ylabel(\"Value\")\n",
    "    axs[2].legend()\n",
    "\n",
    "    # Ajustar el espaciado entre las subplots para mejor visualización\n",
    "    plt.tight_layout()\n",
    "    plt.show()\n",
    "\n",
    "    return wgan_gp\n",
    "\n",
    "# Función para entrenar múltiples WGAN-GP y combinar sus resultados\n",
    "def ensemble_wgan_gp(data_chunk, num_models=3, latent_dim=1000, epochs=100, batch_size=batch, lr=0.00005, std_thresholds=None, lambda_gp=10, patience=10):\n",
    "    models = []\n",
    "    for i in range(num_models):\n",
    "        set_seed(42 + i)  # Cambiar la semilla para cada modelo\n",
    "        print(f\"Training model {i+1}/{num_models}\")\n",
    "        model = train_wgan_gp(data_chunk, latent_dim, epochs, batch_size, lr, std_thresholds, lambda_gp, patience)\n",
    "        models.append(model)\n",
    "    return models\n",
    "\n",
    "# Función para combinar las salidas de múltiples generadores\n",
    "def sample_from_ensemble(models, n_samples):\n",
    "    samples = []\n",
    "    for model in models:\n",
    "        samples.append(model.sample(n_samples))\n",
    "    # Combinar las muestras de todos los modelos (por ejemplo, concatenando o tomando un promedio ponderado)\n",
    "    combined_samples = np.mean(samples, axis=0)  # Simple promedio para combinar muestras\n",
    "    return combined_samples"
   ]
  },
  {
   "cell_type": "markdown",
   "id": "a8d75b3d-a65e-4817-9b1d-f150ed13dbfd",
   "metadata": {
    "tags": []
   },
   "source": [
    "# Train"
   ]
  },
  {
   "cell_type": "code",
   "execution_count": null,
   "id": "02b6cc6d-5d12-45c2-b574-d2e757fc6227",
   "metadata": {},
   "outputs": [],
   "source": [
    "start_time = time.time()\n",
    "start_time"
   ]
  },
  {
   "cell_type": "code",
   "execution_count": 112,
   "id": "d0fdef14-5fe0-4315-bc83-6506deaf374e",
   "metadata": {
    "tags": []
   },
   "outputs": [],
   "source": [
    "# Convertir el DataFrame a numpy array para entrenamiento\n",
    "train_tensor = final_embedded_df.to_numpy()"
   ]
  },
  {
   "cell_type": "code",
   "execution_count": null,
   "id": "9ba4063c-e287-4b11-82e7-a75fc4e78f6c",
   "metadata": {
    "tags": []
   },
   "outputs": [],
   "source": [
    "ensemble_models = ensemble_wgan_gp(train_tensor, num_models=2)  # Entrenar 3 modelos"
   ]
  },
  {
   "cell_type": "code",
   "execution_count": null,
   "id": "1827136f-4ffb-4853-bd84-d5ed6c47d6a8",
   "metadata": {
    "tags": []
   },
   "outputs": [],
   "source": [
    "end_time = time.time()\n",
    "elapsed_time = (end_time - start_time)/60\n",
    "print(f\"Tiempo de ejecución total: {elapsed_time} minutos\")"
   ]
  },
  {
   "cell_type": "code",
   "execution_count": null,
   "id": "5e76c3af-9329-4bf9-868d-c00dac3c92e0",
   "metadata": {
    "tags": []
   },
   "outputs": [],
   "source": [
    "synthetic_data = sample_from_ensemble(ensemble_models, n_samples=cantidad_muestras)  # Obtener muestras combinadas de los modelos\n",
    "# Convertir los datos generados a un DataFrame\n",
    "synthetic_embedded_df = pd.DataFrame(synthetic_data, columns=final_embedded_df.columns)\n",
    "synthetic_embedded_df.head()"
   ]
  },
  {
   "cell_type": "code",
   "execution_count": 126,
   "id": "900dfcc5-2a0c-4847-848d-63b15d5b367f",
   "metadata": {
    "tags": []
   },
   "outputs": [],
   "source": [
    "synthetic_salaries = synthetic_embedded_df['Salario'] # Si synthetic_salaries es una Serie de pandas, conviértela a DataFrame\n",
    "# Revertir el escalado para volver a la escala original\n",
    "synthetic_salaries_df = synthetic_salaries.to_frame()\n",
    "salarios_revertidos = scaler.inverse_transform(synthetic_salaries_df)\n",
    "synthetic_embedded_df = synthetic_embedded_df.iloc[:,:-1]"
   ]
  },
  {
   "cell_type": "code",
   "execution_count": 127,
   "id": "99435664-d289-4793-8bc6-9356f85f4eeb",
   "metadata": {
    "tags": []
   },
   "outputs": [],
   "source": [
    "# Reconstruir las categorías originales desde las embeddings\n",
    "from sklearn.metrics.pairwise import euclidean_distances\n",
    "reconstructed_data = {}\n",
    "\n",
    "for col, dim in embedding_dims.items():\n",
    "    original_embeddings = embedding_layers[col](np.arange(df[f'{col}_idx'].nunique())).numpy()\n",
    "    synthetic_col_embeds = synthetic_embedded_df[[f'{col}_embed_{i+1}' for i in range(dim)]].to_numpy()\n",
    "\n",
    "    distances = euclidean_distances(synthetic_col_embeds, original_embeddings)\n",
    "    closest_indices = np.argmin(distances, axis=1)\n",
    "\n",
    "    reconstructed_data[col] = label_encoders[col].inverse_transform(closest_indices)\n",
    "    \n",
    "# Convertir los datos reconstruidos a un DataFrame\n",
    "reconstructed_df = pd.DataFrame(reconstructed_data)"
   ]
  },
  {
   "cell_type": "code",
   "execution_count": 128,
   "id": "5c8f6e77-2a3e-4928-9cea-88024db249fb",
   "metadata": {
    "tags": []
   },
   "outputs": [],
   "source": [
    "reconstructed_df['Salario'] = salarios_revertidos\n",
    "reconstructed_df['Salario'] = reconstructed_df['Salario'].astype(float).round(0)"
   ]
  },
  {
   "cell_type": "code",
   "execution_count": null,
   "id": "628f83fd-da5a-483a-abcb-af4b8b8c6fdc",
   "metadata": {
    "tags": []
   },
   "outputs": [],
   "source": [
    "reconstructed_df.head()"
   ]
  },
  {
   "cell_type": "code",
   "execution_count": null,
   "id": "6f8f9800-b3e1-4e5d-8773-83ab0c966f80",
   "metadata": {
    "tags": []
   },
   "outputs": [],
   "source": [
    "reconstructed_df.iloc[:,2].value_counts(normalize=True).round(2)"
   ]
  },
  {
   "cell_type": "code",
   "execution_count": null,
   "id": "6ae32e7b-ac09-45f2-8a8c-7b255f3ceaea",
   "metadata": {
    "tags": []
   },
   "outputs": [],
   "source": [
    "data.iloc[:,3].value_counts(normalize=True).round(2)"
   ]
  },
  {
   "cell_type": "code",
   "execution_count": null,
   "id": "5422337b-5130-4d3d-be43-c548eaa597dd",
   "metadata": {
    "tags": []
   },
   "outputs": [],
   "source": [
    "reconstructed_df.shape"
   ]
  },
  {
   "cell_type": "code",
   "execution_count": 132,
   "id": "0b9ea1fb-0116-4e6d-bcd3-a1e08019255e",
   "metadata": {
    "tags": []
   },
   "outputs": [],
   "source": [
    "#subir_csv_S3(df, ruta_s3, nombre_archivo)\n",
    "reconstructed_df.to_csv('PoblacionSinteticaGenerada.csv',\n",
    "                   sep=',',\n",
    "                   decimal='.')"
   ]
  }
 ],
 "metadata": {
  "availableInstances": [
   {
    "_defaultOrder": 0,
    "_isFastLaunch": true,
    "category": "General purpose",
    "gpuNum": 0,
    "hideHardwareSpecs": false,
    "memoryGiB": 4,
    "name": "ml.t3.medium",
    "vcpuNum": 2
   },
   {
    "_defaultOrder": 1,
    "_isFastLaunch": false,
    "category": "General purpose",
    "gpuNum": 0,
    "hideHardwareSpecs": false,
    "memoryGiB": 8,
    "name": "ml.t3.large",
    "vcpuNum": 2
   },
   {
    "_defaultOrder": 2,
    "_isFastLaunch": false,
    "category": "General purpose",
    "gpuNum": 0,
    "hideHardwareSpecs": false,
    "memoryGiB": 16,
    "name": "ml.t3.xlarge",
    "vcpuNum": 4
   },
   {
    "_defaultOrder": 3,
    "_isFastLaunch": false,
    "category": "General purpose",
    "gpuNum": 0,
    "hideHardwareSpecs": false,
    "memoryGiB": 32,
    "name": "ml.t3.2xlarge",
    "vcpuNum": 8
   },
   {
    "_defaultOrder": 4,
    "_isFastLaunch": true,
    "category": "General purpose",
    "gpuNum": 0,
    "hideHardwareSpecs": false,
    "memoryGiB": 8,
    "name": "ml.m5.large",
    "vcpuNum": 2
   },
   {
    "_defaultOrder": 5,
    "_isFastLaunch": false,
    "category": "General purpose",
    "gpuNum": 0,
    "hideHardwareSpecs": false,
    "memoryGiB": 16,
    "name": "ml.m5.xlarge",
    "vcpuNum": 4
   },
   {
    "_defaultOrder": 6,
    "_isFastLaunch": false,
    "category": "General purpose",
    "gpuNum": 0,
    "hideHardwareSpecs": false,
    "memoryGiB": 32,
    "name": "ml.m5.2xlarge",
    "vcpuNum": 8
   },
   {
    "_defaultOrder": 7,
    "_isFastLaunch": false,
    "category": "General purpose",
    "gpuNum": 0,
    "hideHardwareSpecs": false,
    "memoryGiB": 64,
    "name": "ml.m5.4xlarge",
    "vcpuNum": 16
   },
   {
    "_defaultOrder": 8,
    "_isFastLaunch": false,
    "category": "General purpose",
    "gpuNum": 0,
    "hideHardwareSpecs": false,
    "memoryGiB": 128,
    "name": "ml.m5.8xlarge",
    "vcpuNum": 32
   },
   {
    "_defaultOrder": 9,
    "_isFastLaunch": false,
    "category": "General purpose",
    "gpuNum": 0,
    "hideHardwareSpecs": false,
    "memoryGiB": 192,
    "name": "ml.m5.12xlarge",
    "vcpuNum": 48
   },
   {
    "_defaultOrder": 10,
    "_isFastLaunch": false,
    "category": "General purpose",
    "gpuNum": 0,
    "hideHardwareSpecs": false,
    "memoryGiB": 256,
    "name": "ml.m5.16xlarge",
    "vcpuNum": 64
   },
   {
    "_defaultOrder": 11,
    "_isFastLaunch": false,
    "category": "General purpose",
    "gpuNum": 0,
    "hideHardwareSpecs": false,
    "memoryGiB": 384,
    "name": "ml.m5.24xlarge",
    "vcpuNum": 96
   },
   {
    "_defaultOrder": 12,
    "_isFastLaunch": false,
    "category": "General purpose",
    "gpuNum": 0,
    "hideHardwareSpecs": false,
    "memoryGiB": 8,
    "name": "ml.m5d.large",
    "vcpuNum": 2
   },
   {
    "_defaultOrder": 13,
    "_isFastLaunch": false,
    "category": "General purpose",
    "gpuNum": 0,
    "hideHardwareSpecs": false,
    "memoryGiB": 16,
    "name": "ml.m5d.xlarge",
    "vcpuNum": 4
   },
   {
    "_defaultOrder": 14,
    "_isFastLaunch": false,
    "category": "General purpose",
    "gpuNum": 0,
    "hideHardwareSpecs": false,
    "memoryGiB": 32,
    "name": "ml.m5d.2xlarge",
    "vcpuNum": 8
   },
   {
    "_defaultOrder": 15,
    "_isFastLaunch": false,
    "category": "General purpose",
    "gpuNum": 0,
    "hideHardwareSpecs": false,
    "memoryGiB": 64,
    "name": "ml.m5d.4xlarge",
    "vcpuNum": 16
   },
   {
    "_defaultOrder": 16,
    "_isFastLaunch": false,
    "category": "General purpose",
    "gpuNum": 0,
    "hideHardwareSpecs": false,
    "memoryGiB": 128,
    "name": "ml.m5d.8xlarge",
    "vcpuNum": 32
   },
   {
    "_defaultOrder": 17,
    "_isFastLaunch": false,
    "category": "General purpose",
    "gpuNum": 0,
    "hideHardwareSpecs": false,
    "memoryGiB": 192,
    "name": "ml.m5d.12xlarge",
    "vcpuNum": 48
   },
   {
    "_defaultOrder": 18,
    "_isFastLaunch": false,
    "category": "General purpose",
    "gpuNum": 0,
    "hideHardwareSpecs": false,
    "memoryGiB": 256,
    "name": "ml.m5d.16xlarge",
    "vcpuNum": 64
   },
   {
    "_defaultOrder": 19,
    "_isFastLaunch": false,
    "category": "General purpose",
    "gpuNum": 0,
    "hideHardwareSpecs": false,
    "memoryGiB": 384,
    "name": "ml.m5d.24xlarge",
    "vcpuNum": 96
   },
   {
    "_defaultOrder": 20,
    "_isFastLaunch": false,
    "category": "General purpose",
    "gpuNum": 0,
    "hideHardwareSpecs": true,
    "memoryGiB": 0,
    "name": "ml.geospatial.interactive",
    "supportedImageNames": [
     "sagemaker-geospatial-v1-0"
    ],
    "vcpuNum": 0
   },
   {
    "_defaultOrder": 21,
    "_isFastLaunch": true,
    "category": "Compute optimized",
    "gpuNum": 0,
    "hideHardwareSpecs": false,
    "memoryGiB": 4,
    "name": "ml.c5.large",
    "vcpuNum": 2
   },
   {
    "_defaultOrder": 22,
    "_isFastLaunch": false,
    "category": "Compute optimized",
    "gpuNum": 0,
    "hideHardwareSpecs": false,
    "memoryGiB": 8,
    "name": "ml.c5.xlarge",
    "vcpuNum": 4
   },
   {
    "_defaultOrder": 23,
    "_isFastLaunch": false,
    "category": "Compute optimized",
    "gpuNum": 0,
    "hideHardwareSpecs": false,
    "memoryGiB": 16,
    "name": "ml.c5.2xlarge",
    "vcpuNum": 8
   },
   {
    "_defaultOrder": 24,
    "_isFastLaunch": false,
    "category": "Compute optimized",
    "gpuNum": 0,
    "hideHardwareSpecs": false,
    "memoryGiB": 32,
    "name": "ml.c5.4xlarge",
    "vcpuNum": 16
   },
   {
    "_defaultOrder": 25,
    "_isFastLaunch": false,
    "category": "Compute optimized",
    "gpuNum": 0,
    "hideHardwareSpecs": false,
    "memoryGiB": 72,
    "name": "ml.c5.9xlarge",
    "vcpuNum": 36
   },
   {
    "_defaultOrder": 26,
    "_isFastLaunch": false,
    "category": "Compute optimized",
    "gpuNum": 0,
    "hideHardwareSpecs": false,
    "memoryGiB": 96,
    "name": "ml.c5.12xlarge",
    "vcpuNum": 48
   },
   {
    "_defaultOrder": 27,
    "_isFastLaunch": false,
    "category": "Compute optimized",
    "gpuNum": 0,
    "hideHardwareSpecs": false,
    "memoryGiB": 144,
    "name": "ml.c5.18xlarge",
    "vcpuNum": 72
   },
   {
    "_defaultOrder": 28,
    "_isFastLaunch": false,
    "category": "Compute optimized",
    "gpuNum": 0,
    "hideHardwareSpecs": false,
    "memoryGiB": 192,
    "name": "ml.c5.24xlarge",
    "vcpuNum": 96
   },
   {
    "_defaultOrder": 29,
    "_isFastLaunch": true,
    "category": "Accelerated computing",
    "gpuNum": 1,
    "hideHardwareSpecs": false,
    "memoryGiB": 16,
    "name": "ml.g4dn.xlarge",
    "vcpuNum": 4
   },
   {
    "_defaultOrder": 30,
    "_isFastLaunch": false,
    "category": "Accelerated computing",
    "gpuNum": 1,
    "hideHardwareSpecs": false,
    "memoryGiB": 32,
    "name": "ml.g4dn.2xlarge",
    "vcpuNum": 8
   },
   {
    "_defaultOrder": 31,
    "_isFastLaunch": false,
    "category": "Accelerated computing",
    "gpuNum": 1,
    "hideHardwareSpecs": false,
    "memoryGiB": 64,
    "name": "ml.g4dn.4xlarge",
    "vcpuNum": 16
   },
   {
    "_defaultOrder": 32,
    "_isFastLaunch": false,
    "category": "Accelerated computing",
    "gpuNum": 1,
    "hideHardwareSpecs": false,
    "memoryGiB": 128,
    "name": "ml.g4dn.8xlarge",
    "vcpuNum": 32
   },
   {
    "_defaultOrder": 33,
    "_isFastLaunch": false,
    "category": "Accelerated computing",
    "gpuNum": 4,
    "hideHardwareSpecs": false,
    "memoryGiB": 192,
    "name": "ml.g4dn.12xlarge",
    "vcpuNum": 48
   },
   {
    "_defaultOrder": 34,
    "_isFastLaunch": false,
    "category": "Accelerated computing",
    "gpuNum": 1,
    "hideHardwareSpecs": false,
    "memoryGiB": 256,
    "name": "ml.g4dn.16xlarge",
    "vcpuNum": 64
   },
   {
    "_defaultOrder": 35,
    "_isFastLaunch": false,
    "category": "Accelerated computing",
    "gpuNum": 1,
    "hideHardwareSpecs": false,
    "memoryGiB": 61,
    "name": "ml.p3.2xlarge",
    "vcpuNum": 8
   },
   {
    "_defaultOrder": 36,
    "_isFastLaunch": false,
    "category": "Accelerated computing",
    "gpuNum": 4,
    "hideHardwareSpecs": false,
    "memoryGiB": 244,
    "name": "ml.p3.8xlarge",
    "vcpuNum": 32
   },
   {
    "_defaultOrder": 37,
    "_isFastLaunch": false,
    "category": "Accelerated computing",
    "gpuNum": 8,
    "hideHardwareSpecs": false,
    "memoryGiB": 488,
    "name": "ml.p3.16xlarge",
    "vcpuNum": 64
   },
   {
    "_defaultOrder": 38,
    "_isFastLaunch": false,
    "category": "Accelerated computing",
    "gpuNum": 8,
    "hideHardwareSpecs": false,
    "memoryGiB": 768,
    "name": "ml.p3dn.24xlarge",
    "vcpuNum": 96
   },
   {
    "_defaultOrder": 39,
    "_isFastLaunch": false,
    "category": "Memory Optimized",
    "gpuNum": 0,
    "hideHardwareSpecs": false,
    "memoryGiB": 16,
    "name": "ml.r5.large",
    "vcpuNum": 2
   },
   {
    "_defaultOrder": 40,
    "_isFastLaunch": false,
    "category": "Memory Optimized",
    "gpuNum": 0,
    "hideHardwareSpecs": false,
    "memoryGiB": 32,
    "name": "ml.r5.xlarge",
    "vcpuNum": 4
   },
   {
    "_defaultOrder": 41,
    "_isFastLaunch": false,
    "category": "Memory Optimized",
    "gpuNum": 0,
    "hideHardwareSpecs": false,
    "memoryGiB": 64,
    "name": "ml.r5.2xlarge",
    "vcpuNum": 8
   },
   {
    "_defaultOrder": 42,
    "_isFastLaunch": false,
    "category": "Memory Optimized",
    "gpuNum": 0,
    "hideHardwareSpecs": false,
    "memoryGiB": 128,
    "name": "ml.r5.4xlarge",
    "vcpuNum": 16
   },
   {
    "_defaultOrder": 43,
    "_isFastLaunch": false,
    "category": "Memory Optimized",
    "gpuNum": 0,
    "hideHardwareSpecs": false,
    "memoryGiB": 256,
    "name": "ml.r5.8xlarge",
    "vcpuNum": 32
   },
   {
    "_defaultOrder": 44,
    "_isFastLaunch": false,
    "category": "Memory Optimized",
    "gpuNum": 0,
    "hideHardwareSpecs": false,
    "memoryGiB": 384,
    "name": "ml.r5.12xlarge",
    "vcpuNum": 48
   },
   {
    "_defaultOrder": 45,
    "_isFastLaunch": false,
    "category": "Memory Optimized",
    "gpuNum": 0,
    "hideHardwareSpecs": false,
    "memoryGiB": 512,
    "name": "ml.r5.16xlarge",
    "vcpuNum": 64
   },
   {
    "_defaultOrder": 46,
    "_isFastLaunch": false,
    "category": "Memory Optimized",
    "gpuNum": 0,
    "hideHardwareSpecs": false,
    "memoryGiB": 768,
    "name": "ml.r5.24xlarge",
    "vcpuNum": 96
   },
   {
    "_defaultOrder": 47,
    "_isFastLaunch": false,
    "category": "Accelerated computing",
    "gpuNum": 1,
    "hideHardwareSpecs": false,
    "memoryGiB": 16,
    "name": "ml.g5.xlarge",
    "vcpuNum": 4
   },
   {
    "_defaultOrder": 48,
    "_isFastLaunch": false,
    "category": "Accelerated computing",
    "gpuNum": 1,
    "hideHardwareSpecs": false,
    "memoryGiB": 32,
    "name": "ml.g5.2xlarge",
    "vcpuNum": 8
   },
   {
    "_defaultOrder": 49,
    "_isFastLaunch": false,
    "category": "Accelerated computing",
    "gpuNum": 1,
    "hideHardwareSpecs": false,
    "memoryGiB": 64,
    "name": "ml.g5.4xlarge",
    "vcpuNum": 16
   },
   {
    "_defaultOrder": 50,
    "_isFastLaunch": false,
    "category": "Accelerated computing",
    "gpuNum": 1,
    "hideHardwareSpecs": false,
    "memoryGiB": 128,
    "name": "ml.g5.8xlarge",
    "vcpuNum": 32
   },
   {
    "_defaultOrder": 51,
    "_isFastLaunch": false,
    "category": "Accelerated computing",
    "gpuNum": 1,
    "hideHardwareSpecs": false,
    "memoryGiB": 256,
    "name": "ml.g5.16xlarge",
    "vcpuNum": 64
   },
   {
    "_defaultOrder": 52,
    "_isFastLaunch": false,
    "category": "Accelerated computing",
    "gpuNum": 4,
    "hideHardwareSpecs": false,
    "memoryGiB": 192,
    "name": "ml.g5.12xlarge",
    "vcpuNum": 48
   },
   {
    "_defaultOrder": 53,
    "_isFastLaunch": false,
    "category": "Accelerated computing",
    "gpuNum": 4,
    "hideHardwareSpecs": false,
    "memoryGiB": 384,
    "name": "ml.g5.24xlarge",
    "vcpuNum": 96
   },
   {
    "_defaultOrder": 54,
    "_isFastLaunch": false,
    "category": "Accelerated computing",
    "gpuNum": 8,
    "hideHardwareSpecs": false,
    "memoryGiB": 768,
    "name": "ml.g5.48xlarge",
    "vcpuNum": 192
   },
   {
    "_defaultOrder": 55,
    "_isFastLaunch": false,
    "category": "Accelerated computing",
    "gpuNum": 8,
    "hideHardwareSpecs": false,
    "memoryGiB": 1152,
    "name": "ml.p4d.24xlarge",
    "vcpuNum": 96
   },
   {
    "_defaultOrder": 56,
    "_isFastLaunch": false,
    "category": "Accelerated computing",
    "gpuNum": 8,
    "hideHardwareSpecs": false,
    "memoryGiB": 1152,
    "name": "ml.p4de.24xlarge",
    "vcpuNum": 96
   },
   {
    "_defaultOrder": 57,
    "_isFastLaunch": false,
    "category": "Accelerated computing",
    "gpuNum": 0,
    "hideHardwareSpecs": false,
    "memoryGiB": 32,
    "name": "ml.trn1.2xlarge",
    "vcpuNum": 8
   },
   {
    "_defaultOrder": 58,
    "_isFastLaunch": false,
    "category": "Accelerated computing",
    "gpuNum": 0,
    "hideHardwareSpecs": false,
    "memoryGiB": 512,
    "name": "ml.trn1.32xlarge",
    "vcpuNum": 128
   },
   {
    "_defaultOrder": 59,
    "_isFastLaunch": false,
    "category": "Accelerated computing",
    "gpuNum": 0,
    "hideHardwareSpecs": false,
    "memoryGiB": 512,
    "name": "ml.trn1n.32xlarge",
    "vcpuNum": 128
   }
  ],
  "instance_type": "ml.r5.24xlarge",
  "kernelspec": {
   "display_name": "Python 3 (ipykernel)",
   "language": "python",
   "name": "python3"
  },
  "language_info": {
   "codemirror_mode": {
    "name": "ipython",
    "version": 3
   },
   "file_extension": ".py",
   "mimetype": "text/x-python",
   "name": "python",
   "nbconvert_exporter": "python",
   "pygments_lexer": "ipython3",
   "version": "3.10.9"
  }
 },
 "nbformat": 4,
 "nbformat_minor": 5
}
